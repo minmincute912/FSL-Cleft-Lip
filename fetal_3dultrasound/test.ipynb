{
 "cells": [
  {
   "cell_type": "code",
   "execution_count": 2,
   "metadata": {},
   "outputs": [
    {
     "name": "stdout",
     "output_type": "stream",
     "text": [
      "Changed: Screenshot from 2024-11-20 02-37-56.png -> baby_1.png\n",
      "Changed: Screenshot from 2024-11-20 02-38-18.png -> baby_2.png\n",
      "Changed: Screenshot from 2024-11-20 02-38-55.png -> baby_3.png\n",
      "Changed: Screenshot from 2024-11-20 02-39-13.png -> baby_4.png\n",
      "Changed: Screenshot from 2024-11-20 02-39-29.png -> baby_5.png\n",
      "Changed: Screenshot from 2024-11-20 02-39-45.png -> baby_6.png\n",
      "Changed: Screenshot from 2024-11-20 02-39-58.png -> baby_7.png\n",
      "Changed: Screenshot from 2024-11-20 02-40-11.png -> baby_8.png\n",
      "Changed: Screenshot from 2024-11-20 02-40-24.png -> baby_9.png\n",
      "Changed: Screenshot from 2024-11-20 02-40-43.png -> baby_10.png\n",
      "Changed: Screenshot from 2024-11-20 02-40-56.png -> baby_11.png\n",
      "Changed: Screenshot from 2024-11-20 02-41-11.png -> baby_12.png\n",
      "Changed: Screenshot from 2024-11-20 02-41-28.png -> baby_13.png\n",
      "Changed: Screenshot from 2024-11-20 02-41-42.png -> baby_14.png\n",
      "Changed: Screenshot from 2024-11-20 02-41-55.png -> baby_15.png\n",
      "Changed: Screenshot from 2024-11-20 02-42-09.png -> baby_16.png\n",
      "Changed: Screenshot from 2024-11-20 02-42-20.png -> baby_17.png\n",
      "Changed: Screenshot from 2024-11-20 02-42-33.png -> baby_18.png\n",
      "Changed: Screenshot from 2024-11-20 02-42-46.png -> baby_19.png\n",
      "Changed: Screenshot from 2024-11-20 02-43-04.png -> baby_20.png\n",
      "Changed: Screenshot from 2024-11-20 02-43-30.png -> baby_21.png\n",
      "Changed: Screenshot from 2024-11-20 02-43-46.png -> baby_22.png\n",
      "Changed: Screenshot from 2024-11-20 02-44-28.png -> baby_23.png\n",
      "Changed: Screenshot from 2024-11-20 02-44-43.png -> baby_24.png\n",
      "Changed: Screenshot from 2024-11-20 02-44-56.png -> baby_25.png\n",
      "Changed: Screenshot from 2024-11-20 02-45-09.png -> baby_26.png\n",
      "Changed: Screenshot from 2024-11-20 02-45-22.png -> baby_27.png\n",
      "Changed: Screenshot from 2024-11-20 02-45-32.png -> baby_28.png\n",
      "Changed: Screenshot from 2024-11-20 02-45-45.png -> baby_29.png\n",
      "Changed: Screenshot from 2024-11-20 02-45-59.png -> baby_30.png\n",
      "Changed: Screenshot from 2024-11-20 02-46-06.png -> baby_31.png\n",
      "Changed: Screenshot from 2024-11-20 02-46-20.png -> baby_32.png\n",
      "Changed: Screenshot from 2024-11-20 02-46-33.png -> baby_33.png\n",
      "Changed: Screenshot from 2024-11-20 02-46-42.png -> baby_34.png\n",
      "Changed: Screenshot from 2024-11-20 02-46-51.png -> baby_35.png\n",
      "Changed: Screenshot from 2024-11-20 02-47-03.png -> baby_36.png\n",
      "Changed: Screenshot from 2024-11-20 02-47-13.png -> baby_37.png\n",
      "Changed: Screenshot from 2024-11-20 02-47-24.png -> baby_38.png\n",
      "Changed: Screenshot from 2024-11-20 02-47-41.png -> baby_39.png\n",
      "Changed: Screenshot from 2024-11-20 02-48-08.png -> baby_40.png\n",
      "Changed: Screenshot from 2024-11-20 02-48-22.png -> baby_41.png\n",
      "Changed: Screenshot from 2024-11-20 02-48-33.png -> baby_42.png\n",
      "Changed: Screenshot from 2024-11-20 02-48-44.png -> baby_43.png\n",
      "Changed: Screenshot from 2024-11-20 02-49-13.png -> baby_44.png\n",
      "Changed: Screenshot from 2024-11-20 02-49-25.png -> baby_45.png\n",
      "Changed: Screenshot from 2024-11-20 02-49-36.png -> baby_46.png\n",
      "Changed: Screenshot from 2024-11-20 02-49-47.png -> baby_47.png\n",
      "Changed: Screenshot from 2024-11-20 02-50-01.png -> baby_48.png\n",
      "Changed: Screenshot from 2024-11-20 02-50-11.png -> baby_49.png\n",
      "Changed: Screenshot from 2024-11-20 02-50-23.png -> baby_50.png\n",
      "Changed: Screenshot from 2024-11-20 02-50-34.png -> baby_51.png\n",
      "Changed: Screenshot from 2024-11-20 02-50-44.png -> baby_52.png\n",
      "Changed: Screenshot from 2024-11-20 02-50-55.png -> baby_53.png\n",
      "Changed: Screenshot from 2024-11-20 02-51-13.png -> baby_54.png\n",
      "Changed: Screenshot from 2024-11-20 02-51-35.png -> baby_55.png\n",
      "Changed: Screenshot from 2024-11-20 03-00-33.png -> baby_56.png\n"
     ]
    }
   ],
   "source": [
    "# import os\n",
    "\n",
    "# main_folder = \"/home/coder/cleft_lip/fetal_3dultrasound\"\n",
    "\n",
    "# # Danh sách tên thư mục con\n",
    "# subfolders = [\"Non_Cleft\"]\n",
    "\n",
    "# def rename_files_in_folder(folder_path):\n",
    "#     files = sorted([f for f in os.listdir(folder_path) if f.endswith(\".png\")])\n",
    "#     for idx, file in enumerate(files):\n",
    "#         new_name = f\"baby_{idx + 1}.png\"\n",
    "#         old_path = os.path.join(folder_path, file)\n",
    "#         new_path = os.path.join(folder_path, new_name)\n",
    "#         os.rename(old_path, new_path)\n",
    "#         print(f\"Changed: {file} -> {new_name}\")\n",
    "\n",
    "# for subfolder in subfolders:\n",
    "#     folder_path = os.path.join(main_folder, subfolder)\n",
    "#     if os.path.exists(folder_path):\n",
    "#         rename_files_in_folder(folder_path)\n",
    "#     else:\n",
    "#         print(f\"Folder does not recognize: {folder_path}\")\n"
   ]
  },
  {
   "cell_type": "code",
   "execution_count": 1,
   "metadata": {},
   "outputs": [],
   "source": [
    "import os\n",
    "import shutil\n",
    "from sklearn.model_selection import train_test_split\n",
    "\n",
    "def create_fetal_data(data_path, output_path, train_ratio=0.7):\n",
    "    classes=['Cleft','Non_Cleft']\n",
    "    os.makedirs(output_path, exist_ok=True)\n",
    "\n",
    "    # Create background and evaluation folders\n",
    "    background_path = os.path.join(output_path, 'background')\n",
    "    evaluation_path = os.path.join(output_path, 'evaluation')\n",
    "    os.makedirs(background_path, exist_ok=True)\n",
    "    os.makedirs(evaluation_path,exist_ok=True)\n",
    "\n",
    "    for class_name in classes:\n",
    "        class_path = os.path.join(data_path, class_name)\n",
    "        images =[img for img in os.listdir(class_path) if img.endswith(('png','jpeg'))]\n",
    "        #Shuffle and split image into background and evaluation\n",
    "        train_images, test_images = train_test_split(images, train_size=train_ratio, random_state=42)\n",
    "        # Divide backround to \"class\", etc.\n",
    "        for idx, img_set in enumerate([train_images, test_images]):\n",
    "            subset = 'background' if idx==0 else 'evaluation'\n",
    "            subset_path = os.path.join(output_path, subset)\n",
    "\n",
    "            group_path = os.path.join(subset_path, f'{class_name}_group')\n",
    "            os.makedirs(group_path, exist_ok=True)\n",
    "\n",
    "            for img in img_set:\n",
    "                src=os.path.join(class_path,img)\n",
    "                dst=os.path.join(group_path,img)\n",
    "                shutil.copy(src,dst)"
   ]
  },
  {
   "cell_type": "code",
   "execution_count": 3,
   "metadata": {},
   "outputs": [
    {
     "name": "stdout",
     "output_type": "stream",
     "text": [
      "['background', 'evaluation']\n"
     ]
    }
   ],
   "source": [
    "create_fetal_data('/home/coder/cleft_lip/fetal_3dultrasound/data','/home/coder/cleft_lip/fetal_3dultrasound/reorganized_data',)\n",
    "print(os.listdir('/home/coder/cleft_lip/fetal_3dultrasound/reorganized_data'))"
   ]
  },
  {
   "cell_type": "code",
   "execution_count": 2,
   "metadata": {},
   "outputs": [
    {
     "name": "stdout",
     "output_type": "stream",
     "text": [
      "Checkpoint lưu dưới dạng state_dict.\n",
      "Các keys trong state_dict: odict_keys(['0.0.weight', '0.0.bias', '0.1.weight', '0.1.bias', '0.1.running_mean', '0.1.running_var', '0.1.num_batches_tracked', '1.0.weight', '1.0.bias', '1.1.weight', '1.1.bias', '1.1.running_mean', '1.1.running_var', '1.1.num_batches_tracked', '2.0.weight', '2.0.bias', '2.1.weight', '2.1.bias', '2.1.running_mean', '2.1.running_var', '2.1.num_batches_tracked', '3.0.weight', '3.0.bias', '3.1.weight', '3.1.bias', '3.1.running_mean', '3.1.running_var', '3.1.num_batches_tracked'])\n"
     ]
    },
    {
     "name": "stderr",
     "output_type": "stream",
     "text": [
      "/tmp/ipykernel_958975/2040561904.py:5: FutureWarning: You are using `torch.load` with `weights_only=False` (the current default value), which uses the default pickle module implicitly. It is possible to construct malicious pickle data which will execute arbitrary code during unpickling (See https://github.com/pytorch/pytorch/blob/main/SECURITY.md#untrusted-models for more details). In a future release, the default value for `weights_only` will be flipped to `True`. This limits the functions that could be executed during unpickling. Arbitrary objects will no longer be allowed to be loaded via this mode unless they are explicitly allowlisted by the user via `torch.serialization.add_safe_globals`. We recommend you start setting `weights_only=True` for any use case where you don't have full control of the loaded file. Please open an issue on GitHub for any issues related to this experimental feature.\n",
      "  checkpoint = torch.load(checkpoint_path, map_location=torch.device('cpu'))\n"
     ]
    }
   ],
   "source": [
    "import torch\n",
    "\n",
    "checkpoint_path = \"/home/coder/cleft_lip/models/proto_nets/cleft_lip_nt=1_kt=2_qt=15_nv=1_kv=2_qv=1.pth\"\n",
    "\n",
    "checkpoint = torch.load(checkpoint_path, map_location=torch.device('cpu'))\n",
    "\n",
    "if isinstance(checkpoint, dict):\n",
    "    print(\"Checkpoint lưu dưới dạng state_dict.\")\n",
    "    print(\"Các keys trong state_dict:\", checkpoint.keys())\n",
    "elif isinstance(checkpoint, torch.nn.Module):\n",
    "    print(\"Checkpoint lưu toàn bộ mô hình.\")\n",
    "else:\n",
    "    print(\"Checkpoint không rõ định dạng.\")"
   ]
  },
  {
   "cell_type": "code",
   "execution_count": null,
   "metadata": {},
   "outputs": [],
   "source": []
  }
 ],
 "metadata": {
  "kernelspec": {
   "display_name": "Python 3",
   "language": "python",
   "name": "python3"
  },
  "language_info": {
   "codemirror_mode": {
    "name": "ipython",
    "version": 3
   },
   "file_extension": ".py",
   "mimetype": "text/x-python",
   "name": "python",
   "nbconvert_exporter": "python",
   "pygments_lexer": "ipython3",
   "version": "3.10.12"
  }
 },
 "nbformat": 4,
 "nbformat_minor": 2
}
